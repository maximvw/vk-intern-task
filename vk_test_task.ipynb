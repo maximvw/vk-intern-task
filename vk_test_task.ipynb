{
  "nbformat": 4,
  "nbformat_minor": 0,
  "metadata": {
    "colab": {
      "provenance": []
    },
    "kernelspec": {
      "name": "python3",
      "display_name": "Python 3"
    },
    "language_info": {
      "name": "python"
    }
  },
  "cells": [
    {
      "cell_type": "code",
      "execution_count": null,
      "metadata": {
        "id": "tBJa_Onx0Xay"
      },
      "outputs": [],
      "source": [
        "# import gdown\n",
        "\n",
        "# # https://drive.google.com/file/d/1viFKqtYTtTiP9_EdBXVpCmWbNmxDiXWG/view\n",
        "# url = 'https://drive.google.com/uc?id=1viFKqtYTtTiP9_EdBXVpCmWbNmxDiXWG'\n",
        "# output = 'intern_task.csv'\n",
        "# gdown.download(url, output)"
      ]
    },
    {
      "cell_type": "code",
      "source": [
        "import pandas as pd\n",
        "import numpy as np\n",
        "import matplotlib.pyplot as plt"
      ],
      "metadata": {
        "id": "kjoJmCad0_SB"
      },
      "execution_count": null,
      "outputs": []
    },
    {
      "cell_type": "code",
      "source": [
        "df = pd.read_csv('/content/intern_task.csv')"
      ],
      "metadata": {
        "id": "aTegzxY91BM5"
      },
      "execution_count": null,
      "outputs": []
    },
    {
      "cell_type": "code",
      "source": [
        "df.head()"
      ],
      "metadata": {
        "colab": {
          "base_uri": "https://localhost:8080/",
          "height": 255
        },
        "id": "1Vlrz1jGih-s",
        "outputId": "0537ecd1-3a51-4a54-ded1-a1227a39f3ea"
      },
      "execution_count": null,
      "outputs": [
        {
          "output_type": "execute_result",
          "data": {
            "text/plain": [
              "   rank  query_id  feature_0  feature_1  feature_2  feature_3  feature_4  \\\n",
              "0     0        10        1.0        0.0        1.0        3.0        3.0   \n",
              "1     1        10        3.0        0.0        3.0        0.0        3.0   \n",
              "2     0        10        3.0        0.0        2.0        0.0        3.0   \n",
              "3     1        10        3.0        0.0        3.0        0.0        3.0   \n",
              "4     2        10        3.0        0.0        3.0        1.0        3.0   \n",
              "\n",
              "   feature_5  feature_6  feature_7  ...  feature_134  feature_135  \\\n",
              "0   0.333333        0.0   0.333333  ...          0.0     0.000000   \n",
              "1   1.000000        0.0   1.000000  ...          0.0     0.000000   \n",
              "2   1.000000        0.0   0.666667  ...          0.0     0.000000   \n",
              "3   1.000000        0.0   1.000000  ...          0.0     0.000000   \n",
              "4   1.000000        0.0   1.000000  ...        273.0    79.670665   \n",
              "\n",
              "   feature_136  feature_137  feature_138  feature_139  feature_140  \\\n",
              "0     0.454545     0.890238     8.655534     1.000000     0.077778   \n",
              "1     0.000000     0.773976    23.130514     0.000000     0.027826   \n",
              "2     0.000000     0.918308    13.351339     0.000000     0.014925   \n",
              "3     0.000000     0.975355    18.240926     0.000000     0.053140   \n",
              "4     0.200000     0.990119    31.786048     0.333333     0.046512   \n",
              "\n",
              "   feature_141  feature_142  feature_143  \n",
              "0     0.002222          1.0     0.333333  \n",
              "1     0.000430         44.0    14.666667  \n",
              "2     0.000104         22.0     7.333333  \n",
              "3     0.000255          8.0     2.666667  \n",
              "4     0.000307         24.0     8.000000  \n",
              "\n",
              "[5 rows x 146 columns]"
            ],
            "text/html": [
              "\n",
              "  <div id=\"df-f8076079-22d2-4335-af69-2bff6c3d8730\" class=\"colab-df-container\">\n",
              "    <div>\n",
              "<style scoped>\n",
              "    .dataframe tbody tr th:only-of-type {\n",
              "        vertical-align: middle;\n",
              "    }\n",
              "\n",
              "    .dataframe tbody tr th {\n",
              "        vertical-align: top;\n",
              "    }\n",
              "\n",
              "    .dataframe thead th {\n",
              "        text-align: right;\n",
              "    }\n",
              "</style>\n",
              "<table border=\"1\" class=\"dataframe\">\n",
              "  <thead>\n",
              "    <tr style=\"text-align: right;\">\n",
              "      <th></th>\n",
              "      <th>rank</th>\n",
              "      <th>query_id</th>\n",
              "      <th>feature_0</th>\n",
              "      <th>feature_1</th>\n",
              "      <th>feature_2</th>\n",
              "      <th>feature_3</th>\n",
              "      <th>feature_4</th>\n",
              "      <th>feature_5</th>\n",
              "      <th>feature_6</th>\n",
              "      <th>feature_7</th>\n",
              "      <th>...</th>\n",
              "      <th>feature_134</th>\n",
              "      <th>feature_135</th>\n",
              "      <th>feature_136</th>\n",
              "      <th>feature_137</th>\n",
              "      <th>feature_138</th>\n",
              "      <th>feature_139</th>\n",
              "      <th>feature_140</th>\n",
              "      <th>feature_141</th>\n",
              "      <th>feature_142</th>\n",
              "      <th>feature_143</th>\n",
              "    </tr>\n",
              "  </thead>\n",
              "  <tbody>\n",
              "    <tr>\n",
              "      <th>0</th>\n",
              "      <td>0</td>\n",
              "      <td>10</td>\n",
              "      <td>1.0</td>\n",
              "      <td>0.0</td>\n",
              "      <td>1.0</td>\n",
              "      <td>3.0</td>\n",
              "      <td>3.0</td>\n",
              "      <td>0.333333</td>\n",
              "      <td>0.0</td>\n",
              "      <td>0.333333</td>\n",
              "      <td>...</td>\n",
              "      <td>0.0</td>\n",
              "      <td>0.000000</td>\n",
              "      <td>0.454545</td>\n",
              "      <td>0.890238</td>\n",
              "      <td>8.655534</td>\n",
              "      <td>1.000000</td>\n",
              "      <td>0.077778</td>\n",
              "      <td>0.002222</td>\n",
              "      <td>1.0</td>\n",
              "      <td>0.333333</td>\n",
              "    </tr>\n",
              "    <tr>\n",
              "      <th>1</th>\n",
              "      <td>1</td>\n",
              "      <td>10</td>\n",
              "      <td>3.0</td>\n",
              "      <td>0.0</td>\n",
              "      <td>3.0</td>\n",
              "      <td>0.0</td>\n",
              "      <td>3.0</td>\n",
              "      <td>1.000000</td>\n",
              "      <td>0.0</td>\n",
              "      <td>1.000000</td>\n",
              "      <td>...</td>\n",
              "      <td>0.0</td>\n",
              "      <td>0.000000</td>\n",
              "      <td>0.000000</td>\n",
              "      <td>0.773976</td>\n",
              "      <td>23.130514</td>\n",
              "      <td>0.000000</td>\n",
              "      <td>0.027826</td>\n",
              "      <td>0.000430</td>\n",
              "      <td>44.0</td>\n",
              "      <td>14.666667</td>\n",
              "    </tr>\n",
              "    <tr>\n",
              "      <th>2</th>\n",
              "      <td>0</td>\n",
              "      <td>10</td>\n",
              "      <td>3.0</td>\n",
              "      <td>0.0</td>\n",
              "      <td>2.0</td>\n",
              "      <td>0.0</td>\n",
              "      <td>3.0</td>\n",
              "      <td>1.000000</td>\n",
              "      <td>0.0</td>\n",
              "      <td>0.666667</td>\n",
              "      <td>...</td>\n",
              "      <td>0.0</td>\n",
              "      <td>0.000000</td>\n",
              "      <td>0.000000</td>\n",
              "      <td>0.918308</td>\n",
              "      <td>13.351339</td>\n",
              "      <td>0.000000</td>\n",
              "      <td>0.014925</td>\n",
              "      <td>0.000104</td>\n",
              "      <td>22.0</td>\n",
              "      <td>7.333333</td>\n",
              "    </tr>\n",
              "    <tr>\n",
              "      <th>3</th>\n",
              "      <td>1</td>\n",
              "      <td>10</td>\n",
              "      <td>3.0</td>\n",
              "      <td>0.0</td>\n",
              "      <td>3.0</td>\n",
              "      <td>0.0</td>\n",
              "      <td>3.0</td>\n",
              "      <td>1.000000</td>\n",
              "      <td>0.0</td>\n",
              "      <td>1.000000</td>\n",
              "      <td>...</td>\n",
              "      <td>0.0</td>\n",
              "      <td>0.000000</td>\n",
              "      <td>0.000000</td>\n",
              "      <td>0.975355</td>\n",
              "      <td>18.240926</td>\n",
              "      <td>0.000000</td>\n",
              "      <td>0.053140</td>\n",
              "      <td>0.000255</td>\n",
              "      <td>8.0</td>\n",
              "      <td>2.666667</td>\n",
              "    </tr>\n",
              "    <tr>\n",
              "      <th>4</th>\n",
              "      <td>2</td>\n",
              "      <td>10</td>\n",
              "      <td>3.0</td>\n",
              "      <td>0.0</td>\n",
              "      <td>3.0</td>\n",
              "      <td>1.0</td>\n",
              "      <td>3.0</td>\n",
              "      <td>1.000000</td>\n",
              "      <td>0.0</td>\n",
              "      <td>1.000000</td>\n",
              "      <td>...</td>\n",
              "      <td>273.0</td>\n",
              "      <td>79.670665</td>\n",
              "      <td>0.200000</td>\n",
              "      <td>0.990119</td>\n",
              "      <td>31.786048</td>\n",
              "      <td>0.333333</td>\n",
              "      <td>0.046512</td>\n",
              "      <td>0.000307</td>\n",
              "      <td>24.0</td>\n",
              "      <td>8.000000</td>\n",
              "    </tr>\n",
              "  </tbody>\n",
              "</table>\n",
              "<p>5 rows × 146 columns</p>\n",
              "</div>\n",
              "    <div class=\"colab-df-buttons\">\n",
              "\n",
              "  <div class=\"colab-df-container\">\n",
              "    <button class=\"colab-df-convert\" onclick=\"convertToInteractive('df-f8076079-22d2-4335-af69-2bff6c3d8730')\"\n",
              "            title=\"Convert this dataframe to an interactive table.\"\n",
              "            style=\"display:none;\">\n",
              "\n",
              "  <svg xmlns=\"http://www.w3.org/2000/svg\" height=\"24px\" viewBox=\"0 -960 960 960\">\n",
              "    <path d=\"M120-120v-720h720v720H120Zm60-500h600v-160H180v160Zm220 220h160v-160H400v160Zm0 220h160v-160H400v160ZM180-400h160v-160H180v160Zm440 0h160v-160H620v160ZM180-180h160v-160H180v160Zm440 0h160v-160H620v160Z\"/>\n",
              "  </svg>\n",
              "    </button>\n",
              "\n",
              "  <style>\n",
              "    .colab-df-container {\n",
              "      display:flex;\n",
              "      gap: 12px;\n",
              "    }\n",
              "\n",
              "    .colab-df-convert {\n",
              "      background-color: #E8F0FE;\n",
              "      border: none;\n",
              "      border-radius: 50%;\n",
              "      cursor: pointer;\n",
              "      display: none;\n",
              "      fill: #1967D2;\n",
              "      height: 32px;\n",
              "      padding: 0 0 0 0;\n",
              "      width: 32px;\n",
              "    }\n",
              "\n",
              "    .colab-df-convert:hover {\n",
              "      background-color: #E2EBFA;\n",
              "      box-shadow: 0px 1px 2px rgba(60, 64, 67, 0.3), 0px 1px 3px 1px rgba(60, 64, 67, 0.15);\n",
              "      fill: #174EA6;\n",
              "    }\n",
              "\n",
              "    .colab-df-buttons div {\n",
              "      margin-bottom: 4px;\n",
              "    }\n",
              "\n",
              "    [theme=dark] .colab-df-convert {\n",
              "      background-color: #3B4455;\n",
              "      fill: #D2E3FC;\n",
              "    }\n",
              "\n",
              "    [theme=dark] .colab-df-convert:hover {\n",
              "      background-color: #434B5C;\n",
              "      box-shadow: 0px 1px 3px 1px rgba(0, 0, 0, 0.15);\n",
              "      filter: drop-shadow(0px 1px 2px rgba(0, 0, 0, 0.3));\n",
              "      fill: #FFFFFF;\n",
              "    }\n",
              "  </style>\n",
              "\n",
              "    <script>\n",
              "      const buttonEl =\n",
              "        document.querySelector('#df-f8076079-22d2-4335-af69-2bff6c3d8730 button.colab-df-convert');\n",
              "      buttonEl.style.display =\n",
              "        google.colab.kernel.accessAllowed ? 'block' : 'none';\n",
              "\n",
              "      async function convertToInteractive(key) {\n",
              "        const element = document.querySelector('#df-f8076079-22d2-4335-af69-2bff6c3d8730');\n",
              "        const dataTable =\n",
              "          await google.colab.kernel.invokeFunction('convertToInteractive',\n",
              "                                                    [key], {});\n",
              "        if (!dataTable) return;\n",
              "\n",
              "        const docLinkHtml = 'Like what you see? Visit the ' +\n",
              "          '<a target=\"_blank\" href=https://colab.research.google.com/notebooks/data_table.ipynb>data table notebook</a>'\n",
              "          + ' to learn more about interactive tables.';\n",
              "        element.innerHTML = '';\n",
              "        dataTable['output_type'] = 'display_data';\n",
              "        await google.colab.output.renderOutput(dataTable, element);\n",
              "        const docLink = document.createElement('div');\n",
              "        docLink.innerHTML = docLinkHtml;\n",
              "        element.appendChild(docLink);\n",
              "      }\n",
              "    </script>\n",
              "  </div>\n",
              "\n",
              "\n",
              "<div id=\"df-42162652-4d41-4af6-a172-f3099e23e74b\">\n",
              "  <button class=\"colab-df-quickchart\" onclick=\"quickchart('df-42162652-4d41-4af6-a172-f3099e23e74b')\"\n",
              "            title=\"Suggest charts\"\n",
              "            style=\"display:none;\">\n",
              "\n",
              "<svg xmlns=\"http://www.w3.org/2000/svg\" height=\"24px\"viewBox=\"0 0 24 24\"\n",
              "     width=\"24px\">\n",
              "    <g>\n",
              "        <path d=\"M19 3H5c-1.1 0-2 .9-2 2v14c0 1.1.9 2 2 2h14c1.1 0 2-.9 2-2V5c0-1.1-.9-2-2-2zM9 17H7v-7h2v7zm4 0h-2V7h2v10zm4 0h-2v-4h2v4z\"/>\n",
              "    </g>\n",
              "</svg>\n",
              "  </button>\n",
              "\n",
              "<style>\n",
              "  .colab-df-quickchart {\n",
              "      --bg-color: #E8F0FE;\n",
              "      --fill-color: #1967D2;\n",
              "      --hover-bg-color: #E2EBFA;\n",
              "      --hover-fill-color: #174EA6;\n",
              "      --disabled-fill-color: #AAA;\n",
              "      --disabled-bg-color: #DDD;\n",
              "  }\n",
              "\n",
              "  [theme=dark] .colab-df-quickchart {\n",
              "      --bg-color: #3B4455;\n",
              "      --fill-color: #D2E3FC;\n",
              "      --hover-bg-color: #434B5C;\n",
              "      --hover-fill-color: #FFFFFF;\n",
              "      --disabled-bg-color: #3B4455;\n",
              "      --disabled-fill-color: #666;\n",
              "  }\n",
              "\n",
              "  .colab-df-quickchart {\n",
              "    background-color: var(--bg-color);\n",
              "    border: none;\n",
              "    border-radius: 50%;\n",
              "    cursor: pointer;\n",
              "    display: none;\n",
              "    fill: var(--fill-color);\n",
              "    height: 32px;\n",
              "    padding: 0;\n",
              "    width: 32px;\n",
              "  }\n",
              "\n",
              "  .colab-df-quickchart:hover {\n",
              "    background-color: var(--hover-bg-color);\n",
              "    box-shadow: 0 1px 2px rgba(60, 64, 67, 0.3), 0 1px 3px 1px rgba(60, 64, 67, 0.15);\n",
              "    fill: var(--button-hover-fill-color);\n",
              "  }\n",
              "\n",
              "  .colab-df-quickchart-complete:disabled,\n",
              "  .colab-df-quickchart-complete:disabled:hover {\n",
              "    background-color: var(--disabled-bg-color);\n",
              "    fill: var(--disabled-fill-color);\n",
              "    box-shadow: none;\n",
              "  }\n",
              "\n",
              "  .colab-df-spinner {\n",
              "    border: 2px solid var(--fill-color);\n",
              "    border-color: transparent;\n",
              "    border-bottom-color: var(--fill-color);\n",
              "    animation:\n",
              "      spin 1s steps(1) infinite;\n",
              "  }\n",
              "\n",
              "  @keyframes spin {\n",
              "    0% {\n",
              "      border-color: transparent;\n",
              "      border-bottom-color: var(--fill-color);\n",
              "      border-left-color: var(--fill-color);\n",
              "    }\n",
              "    20% {\n",
              "      border-color: transparent;\n",
              "      border-left-color: var(--fill-color);\n",
              "      border-top-color: var(--fill-color);\n",
              "    }\n",
              "    30% {\n",
              "      border-color: transparent;\n",
              "      border-left-color: var(--fill-color);\n",
              "      border-top-color: var(--fill-color);\n",
              "      border-right-color: var(--fill-color);\n",
              "    }\n",
              "    40% {\n",
              "      border-color: transparent;\n",
              "      border-right-color: var(--fill-color);\n",
              "      border-top-color: var(--fill-color);\n",
              "    }\n",
              "    60% {\n",
              "      border-color: transparent;\n",
              "      border-right-color: var(--fill-color);\n",
              "    }\n",
              "    80% {\n",
              "      border-color: transparent;\n",
              "      border-right-color: var(--fill-color);\n",
              "      border-bottom-color: var(--fill-color);\n",
              "    }\n",
              "    90% {\n",
              "      border-color: transparent;\n",
              "      border-bottom-color: var(--fill-color);\n",
              "    }\n",
              "  }\n",
              "</style>\n",
              "\n",
              "  <script>\n",
              "    async function quickchart(key) {\n",
              "      const quickchartButtonEl =\n",
              "        document.querySelector('#' + key + ' button');\n",
              "      quickchartButtonEl.disabled = true;  // To prevent multiple clicks.\n",
              "      quickchartButtonEl.classList.add('colab-df-spinner');\n",
              "      try {\n",
              "        const charts = await google.colab.kernel.invokeFunction(\n",
              "            'suggestCharts', [key], {});\n",
              "      } catch (error) {\n",
              "        console.error('Error during call to suggestCharts:', error);\n",
              "      }\n",
              "      quickchartButtonEl.classList.remove('colab-df-spinner');\n",
              "      quickchartButtonEl.classList.add('colab-df-quickchart-complete');\n",
              "    }\n",
              "    (() => {\n",
              "      let quickchartButtonEl =\n",
              "        document.querySelector('#df-42162652-4d41-4af6-a172-f3099e23e74b button');\n",
              "      quickchartButtonEl.style.display =\n",
              "        google.colab.kernel.accessAllowed ? 'block' : 'none';\n",
              "    })();\n",
              "  </script>\n",
              "</div>\n",
              "    </div>\n",
              "  </div>\n"
            ],
            "application/vnd.google.colaboratory.intrinsic+json": {
              "type": "dataframe",
              "variable_name": "df"
            }
          },
          "metadata": {},
          "execution_count": 56
        }
      ]
    },
    {
      "cell_type": "code",
      "source": [
        "# Как видно, пропущенных значений нет\n",
        "df.isna().sum().sum()"
      ],
      "metadata": {
        "colab": {
          "base_uri": "https://localhost:8080/"
        },
        "id": "y4gyiz-iuycE",
        "outputId": "dbb68175-6482-4415-ff15-a1b56f53b341"
      },
      "execution_count": null,
      "outputs": [
        {
          "output_type": "execute_result",
          "data": {
            "text/plain": [
              "0"
            ]
          },
          "metadata": {},
          "execution_count": 57
        }
      ]
    },
    {
      "cell_type": "code",
      "source": [
        "# df.describe()\n",
        "cols_to_del = []\n",
        "\n",
        "for feat in df.columns[2:]:\n",
        "    count_uniq = len(df[feat].unique())\n",
        "    all_are_int = np.all(df[feat].unique() % 1 == 0)\n",
        "    if count_uniq == 1:\n",
        "        cols_to_del.append(feat)\n",
        "    print(feat, \" info:\", count_uniq, all_are_int, df[feat].mean(), df[feat].std(), df[feat].min(), df[feat].max())\n",
        "cols_to_del"
      ],
      "metadata": {
        "colab": {
          "base_uri": "https://localhost:8080/"
        },
        "id": "lXSD5PZWxICI",
        "outputId": "d55912db-6c14-404e-8b0f-27a5a424c551"
      },
      "execution_count": null,
      "outputs": [
        {
          "output_type": "stream",
          "name": "stdout",
          "text": [
            "feature_0  info: 16 True 1.911960485934591 1.2373737364984412 0.0 31.0\n",
            "feature_1  info: 10 True 0.2062331567895672 0.5790887792100164 0.0 18.0\n",
            "feature_2  info: 15 True 1.1898468914978448 1.0372331733838172 0.0 27.0\n",
            "feature_3  info: 10 True 0.5502724668236574 0.7909465088437696 0.0 9.0\n",
            "feature_4  info: 16 True 1.96008212260582 1.20353357137918 0.0 31.0\n",
            "feature_5  info: 44 False 0.8039641451767845 0.3399550586748546 0.0 1.0\n",
            "feature_6  info: 25 False 0.09755746823487406 0.2660348463437371 0.0 1.0\n",
            "feature_7  info: 32 False 0.5411738880250617 0.41997269015165556 0.0 1.0\n",
            "feature_8  info: 235258 False 500.00000000000006 288.6769751884977 0.0 1000.0\n",
            "feature_9  info: 44 False 0.8349088596562072 0.31076235194838264 0.0 1.0\n",
            "feature_10  info: 5124 True 663.5420347023268 781.4060486935526 0.0 13540.0\n",
            "feature_11  info: 156 True 1.5261415127222029 15.416423894098708 0.0 3233.0\n",
            "feature_12  info: 281 True 8.41180321179301 58.94884576985331 0.0 5790.0\n",
            "feature_13  info: 60 True 7.921307670727456 3.449127409586665 2.0 185.0\n",
            "feature_14  info: 5174 True 681.4012870975695 788.3018482047003 2.0 13554.0\n",
            "feature_15  info: 1903 False 10.283856158073265 6.101612684156876 -4.387408 225.36792\n",
            "feature_16  info: 1790 False 20.688221772454067 9.661967574112142 5.154618 369.782422\n",
            "feature_17  info: 1809 False 18.649407601560835 8.932978189886581 4.361284 324.793461\n",
            "feature_18  info: 1813 False 19.99400910891022 9.876109194822776 4.018781 493.316351\n",
            "feature_19  info: 1901 False 10.269423060941604 6.096088108620497 -4.412168 225.240281\n",
            "feature_20  info: 235258 False 0.5 0.2886769751884978 0.0 1.0\n",
            "feature_21  info: 54 True 0.3189774630405767 1.4249560721381205 0.0 277.0\n",
            "feature_22  info: 73 True 1.5039658587593197 2.1351358389749655 0.0 258.0\n",
            "feature_23  info: 13 True 0.5910234721029678 0.8905114944552945 0.0 42.0\n",
            "feature_24  info: 532 True 24.87187683309388 64.57216500763143 0.0 15178.0\n",
            "feature_25  info: 215 True 5.392675275654813 11.342425244648702 0.0 1552.0\n",
            "feature_26  info: 26 True 0.09249844851184656 0.5030169134503518 0.0 52.0\n",
            "feature_27  info: 24 True 0.4451538311130759 0.7495145789452899 0.0 104.0\n",
            "feature_28  info: 10 True 0.19351095393142848 0.4266476575547356 0.0 42.0\n",
            "feature_29  info: 216 True 6.1943865883413105 11.943832938115392 0.0 1579.0\n",
            "feature_30  info: 387 True 14.64715333803739 23.643524507941486 0.0 1552.0\n",
            "feature_31  info: 35 True 0.2204473386664853 0.846562451856596 0.0 86.0\n",
            "feature_32  info: 60 True 0.9387608497904428 1.389355641440567 0.0 201.0\n",
            "feature_33  info: 11 True 0.43330726266481906 0.5753260830248418 0.0 42.0\n",
            "feature_34  info: 386 True 16.131383417354563 24.191045288491193 0.0 1579.0\n",
            "feature_35  info: 235258 False 1000000.0000000001 577353.9503769955 0.0 2000000.0\n",
            "feature_36  info: 125 False 0.15237255356247184 0.6111870415644545 0.0 55.4\n",
            "feature_37  info: 153 False 0.6808744396109802 0.8521697786771769 0.0 104.0\n",
            "feature_38  info: 53 False 0.30173432314735316 0.4458368416508568 0.0 42.0\n",
            "feature_39  info: 1464 False 10.695359837654832 14.837634456369223 0.0 1579.0\n",
            "feature_40  info: 8204 False 101.59131778545684 1560.2919316796879 0.0 335820.25\n",
            "feature_41  info: 226 False 0.09376931747698272 2.9036946433353985 0.0 935.44\n",
            "feature_42  info: 290 False 0.37295014758690465 26.527794858288217 0.0 8800.222222\n",
            "feature_43  info: 59 False 0.06277280928172474 0.1596513726830595 0.0 16.0\n",
            "feature_44  info: 8696 False 108.7270277195972 1585.34362986617 0.0 339306.25\n",
            "feature_45  info: 47103 False 0.05059998505895654 0.07001287199996717 0.0 2.0\n",
            "feature_46  info: 555 False 0.06845342852527862 0.2042247960441 0.0 2.833333\n",
            "feature_47  info: 700 False 0.22932107311547317 0.23478071345170726 0.0 4.75\n",
            "feature_48  info: 235258 False 5.996812339182396 2.001477968464078 -3.7260864890420127 14.560076141844023\n",
            "feature_49  info: 50128 False 0.05558930825306684 0.06196900621501443 0.0 1.719961\n",
            "feature_50  info: 22222 False 0.015845798825119658 0.037158918081109486 0.0 1.0\n",
            "feature_51  info: 298 False 0.021862290612859075 0.10527147813047062 0.0 1.0\n",
            "feature_52  info: 360 False 0.07948667235120592 0.13705052624205513 0.0 1.0\n",
            "feature_53  info: 77 False 0.025617636785996656 0.05822287679415028 0.0 0.617647\n",
            "feature_54  info: 24042 False 0.018316183815215638 0.03233862110697772 0.0 0.711261\n",
            "feature_55  info: 37626 False 0.0332873172006903 0.04580111629009627 0.0 1.0\n",
            "feature_56  info: 435 False 0.05109291096583326 0.15741705074558232 0.0 1.0\n",
            "feature_57  info: 563 False 0.14975776867524163 0.15379854677737573 0.0 1.0\n",
            "feature_58  info: 111 False 0.05388832130256994 0.07333270813948872 0.0 0.617647\n",
            "feature_59  info: 39618 False 0.036872249764088795 0.040303961744168705 0.0 0.711261\n",
            "feature_60  info: 39129 False 0.024009519706024877 0.03868249765798232 0.0 1.0\n",
            "feature_61  info: 702 False 0.03509959285975397 0.11683391943291603 0.0 1.0\n",
            "feature_62  info: 936 False 0.11309826199321599 0.13272710575177293 0.0 1.0\n",
            "feature_63  info: 313 False 0.038307036249564316 0.059358509381654136 0.0 0.617647\n",
            "feature_64  info: 1 True 0.0 0.0 0 0\n",
            "feature_65  info: 1 True 0.0 0.0 0 0\n",
            "feature_66  info: 972 False 0.0035653837531561096 0.02189911076106246 0.0 0.25\n",
            "feature_67  info: 1383 False 0.004391939912776611 0.015357020521689965 0.0 0.25\n",
            "feature_68  info: 459 False 0.0009329508879613019 0.002354582987289909 0.0 0.0625\n",
            "feature_69  info: 4874 False 0.00025876471788419526 0.001021905761305956 0.0 0.0625\n",
            "feature_70  info: 127357 False 81.38834018154537 412.4919284031864 -6809.256888 112996.5989\n",
            "feature_71  info: 8705 False 2.650103525210619 11.571998874270182 0.0 2287.866383\n",
            "feature_72  info: 1 True 1.0 0.0 1 1\n",
            "feature_73  info: 7728 False 4.98442572319326 7.3741592032172365 0.0 168.788808\n",
            "feature_74  info: 134650 False 90.72000883092603 415.8514368349769 -6966.812734 113715.070904\n",
            "feature_75  info: 30724 False 21.06038928257913 56.60552765650237 -3404.628444 2591.318361\n",
            "feature_76  info: 2390 False 0.7962637987996156 4.473939357714741 0.0 562.34221\n",
            "feature_77  info: 2961 False 3.3401491591911867 6.129881007376705 0.0 778.014004\n",
            "feature_78  info: 1531 False 1.76027132787833 4.0519418497152015 0.0 168.788808\n",
            "feature_79  info: 33121 False 24.353002093977675 60.04075415894867 -3483.406367 2594.349634\n",
            "feature_80  info: 61283 False 59.464531105909245 102.91103828902146 0.0 9010.658955\n",
            "feature_81  info: 5424 False 1.9305264677885559 7.21289571607758 0.0 717.094479\n",
            "feature_82  info: 6780 False 7.527334594785299 9.938973361458533 0.0 1268.208388\n",
            "feature_83  info: 3805 False 3.877014618100128 5.294936667957434 0.0 168.788808\n",
            "feature_84  info: 64843 False 66.25656084262383 105.78766533263256 0.0 9091.00081\n",
            "feature_85  info: 127923 False 37.971536242550734 66.93315994427819 -3404.628444 3531.143716\n",
            "feature_86  info: 9399 False 1.3160903616242599 5.332995911919391 0.0 562.34221\n",
            "feature_87  info: 16844 False 5.285802601773372 6.784037340383743 0.0 778.014004\n",
            "feature_88  info: 8611 False 2.704482075423577 4.249658553720262 0.0 168.788808\n",
            "feature_89  info: 135276 False 42.878376154749255 69.81261215821452 -3483.406367 3553.595966\n",
            "feature_90  info: 118551 False 1810.9829661787398 34117.570758034104 0.0 8002100.126477\n",
            "feature_91  info: 8631 False 6.203154390065373 188.64895888151148 0.0 72302.196737\n",
            "feature_92  info: 16192 False 18.06677207588265 957.8411769172424 0.0 348128.89071\n",
            "feature_93  info: 8173 False 4.455545439100901 12.589217078000651 0.0 2141.648244\n",
            "feature_94  info: 125097 False 1957.6165738519414 34458.590026668666 0.0 8123744.085339\n",
            "feature_95  info: 2 True 0.6999124365590118 0.4582967493870122 0.0 1.0\n",
            "feature_96  info: 2 True 0.061778983073901846 0.24075420391567212 0.0 1.0\n",
            "feature_97  info: 2 True 0.38319206998274236 0.4861655192999367 0.0 1.0\n",
            "feature_98  info: 2 True 0.18494588919399127 0.3882544887237871 0.0 1.0\n",
            "feature_99  info: 2 True 0.7330462726028445 0.4423689259399184 0.0 1.0\n",
            "feature_100  info: 1 True 0.0 0.0 0 0\n",
            "feature_101  info: 5567 False 0.11112822352056041 0.28902526988675453 0.0 1.0\n",
            "feature_102  info: 11836 False 0.5861527436559012 0.4235806227780112 0.0 1.0\n",
            "feature_103  info: 6670 False 0.3218764887612749 0.4191922440484039 0.0 1.0\n",
            "feature_104  info: 85663 False 0.7714655857909187 0.33069854821292644 0.0 1.0\n",
            "feature_105  info: 192154 False 18.021374817685263 13.518795972989285 -15.300321 683.950035\n",
            "feature_106  info: 18900 False 1.7855738861462733 5.050870713522907 0.0 147.495469\n",
            "feature_107  info: 58140 False 10.146376915335507 8.988602093551835 0.0 284.579427\n",
            "feature_108  info: 28961 False 4.81703377634342 6.806254151592625 0.0 48.823777\n",
            "feature_109  info: 206039 False 19.15678014525755 13.513427501048602 -15.386967 684.582901\n",
            "feature_110  info: 192331 False -12.285721757653297 9.650179603085238 -192.921992 0.0\n",
            "feature_111  info: 20535 False -14.173841173894195 11.553772806392507 -338.461011 0.0\n",
            "feature_112  info: 68955 False -12.084363879302721 11.1020671635375 -345.114663 0.0\n",
            "feature_113  info: 34464 False -15.63530656565558 12.355667955779507 -110.438631 0.0\n",
            "feature_114  info: 206051 False -11.826086561485685 9.620469317518284 -192.249785 0.0\n",
            "feature_115  info: 191744 False -14.725488124051038 9.478868734262994 -185.667208 0.0\n",
            "feature_116  info: 20474 False -17.963051998146714 11.271769048473127 -359.85911 0.0\n",
            "feature_117  info: 63166 False -17.55614182134508 10.956148261783245 -353.46896 0.0\n",
            "feature_118  info: 33007 False -19.481691729939048 12.006386559536574 -109.004279 0.0\n",
            "feature_119  info: 205419 False -14.390661986674205 9.41541746200962 -185.852387 0.0\n",
            "feature_120  info: 186488 False -12.15693074422124 9.921844091973247 -175.242471 0.0\n",
            "feature_121  info: 16956 False -15.049929204702922 13.468693810063638 -379.418796 0.70557\n",
            "feature_122  info: 53686 False -12.07035006690102 13.017677870383464 -378.73064 0.705756\n",
            "feature_123  info: 28626 False -16.529615989152337 14.532610281900507 -128.256037 0.0\n",
            "feature_124  info: 198257 False -11.748577865012027 9.874811437688876 -175.527578 0.0\n",
            "feature_125  info: 19 True 2.7974606602113425 1.4330423300695578 1.0 31.0\n",
            "feature_126  info: 290 True 43.11932006563008 21.859444416030815 4.0 1074.0\n",
            "feature_127  info: 11338 True 110240.2649686727 3060548.8907437297 0.0 314131554.0\n",
            "feature_128  info: 120 True 4.25117530540938 8.841107648816832 0.0 139.0\n",
            "feature_129  info: 54167 True 19304.23695262223 22272.92203304581 100.0 65534.0\n",
            "feature_130  info: 52183 True 35757.25459283 21300.165381476992 1.0 65535.0\n",
            "feature_131  info: 254 True 17.532632259051763 30.35622732873665 1.0 254.0\n",
            "feature_132  info: 253 True 24.302888743422116 41.16687932734415 0.0 254.0\n",
            "feature_133  info: 1887 True 299.4573064465395 43232.54135285784 0.0 13544625.0\n",
            "feature_134  info: 2244 True 476.34322743541134 19548.403633313654 0.0 1731553.0\n",
            "feature_135  info: 25333 False 10466.975399544766 2649584.483152877 0.0 800000001.0\n",
            "feature_136  info: 162 False 0.0702985070858377 0.10072077648220656 0.0 0.818182\n",
            "feature_137  info: 82379 False 0.7407096824720095 0.3527997037710716 0.0 1.0\n",
            "feature_138  info: 15817 False 11.067947360536092 15.336860917566051 0.0 2506.799764\n",
            "feature_139  info: 29 False 0.2817474462972567 0.3920889278746051 0.0 1.0\n",
            "feature_140  info: 41864 False 0.027032717272101266 0.033350682773220994 0.0 0.711261\n",
            "feature_141  info: 4703 False 0.0002686227715954399 0.0020879127967889217 0.0 0.25\n",
            "feature_142  info: 529 True 22.457910039191017 63.708018361801216 0.0 15074.0\n",
            "feature_143  info: 1431 False 9.560378515017556 14.347377995262942 0.0 1552.0\n"
          ]
        },
        {
          "output_type": "execute_result",
          "data": {
            "text/plain": [
              "['feature_64', 'feature_65', 'feature_72', 'feature_100']"
            ]
          },
          "metadata": {},
          "execution_count": 58
        }
      ]
    },
    {
      "cell_type": "code",
      "source": [
        "# Удалим признаки, в которых только одно уникальное значение, т.к. из них нельзя извлечь никакой информации\n",
        "\n",
        "df = df.drop(cols_to_del, axis=1)"
      ],
      "metadata": {
        "id": "zch-pLpwuyYr"
      },
      "execution_count": null,
      "outputs": []
    },
    {
      "cell_type": "code",
      "source": [
        "qrs_to_del = df.groupby('query_id')['query_id'].count()[df.groupby('query_id')['query_id'].count().to_numpy() < 2].index"
      ],
      "metadata": {
        "id": "oM_RlPgE1g_e"
      },
      "execution_count": null,
      "outputs": []
    },
    {
      "cell_type": "code",
      "source": [
        "# Удалим информацию о запросах, где всего 1 сэмпл, т.к. для ранжирования они не несут в себе информации\n",
        "\n",
        "df = df[df['query_id'].isin(qrs_to_del) == False]"
      ],
      "metadata": {
        "id": "XIUJdW2B3z-H"
      },
      "execution_count": null,
      "outputs": []
    },
    {
      "cell_type": "code",
      "source": [
        "df.groupby('query_id')['query_id'].count().to_numpy().mean(), df.groupby('query_id')['query_id'].count().to_numpy().std()"
      ],
      "metadata": {
        "colab": {
          "base_uri": "https://localhost:8080/"
        },
        "id": "HX1Lfqd02uZf",
        "outputId": "04b113b5-e060-4eb7-f943-2e5235afdbc9"
      },
      "execution_count": null,
      "outputs": [
        {
          "output_type": "execute_result",
          "data": {
            "text/plain": [
              "(117.80420630946419, 67.8641624065472)"
            ]
          },
          "metadata": {},
          "execution_count": 64
        }
      ]
    },
    {
      "cell_type": "code",
      "source": [
        "len(df['query_id'].unique())"
      ],
      "metadata": {
        "colab": {
          "base_uri": "https://localhost:8080/"
        },
        "id": "v4OVJ_eQ3amO",
        "outputId": "b809036a-19e3-4a7d-de15-a7833392e323"
      },
      "execution_count": null,
      "outputs": [
        {
          "output_type": "execute_result",
          "data": {
            "text/plain": [
              "1997"
            ]
          },
          "metadata": {},
          "execution_count": 68
        }
      ]
    },
    {
      "cell_type": "code",
      "source": [
        "# Дубликатов нет, я дропаю колонку rank, т.к. по этой колонке у дубликатов могут быть разные значения, она целевая переменная\n",
        "\n",
        "df[df.drop(['rank'], axis=1).duplicated()]"
      ],
      "metadata": {
        "colab": {
          "base_uri": "https://localhost:8080/",
          "height": 99
        },
        "id": "WvBbvZlU6mlL",
        "outputId": "fd412c15-a682-44f3-e85a-66ba00207209"
      },
      "execution_count": null,
      "outputs": [
        {
          "output_type": "execute_result",
          "data": {
            "text/plain": [
              "Empty DataFrame\n",
              "Columns: [rank, query_id, feature_0, feature_1, feature_2, feature_3, feature_4, feature_5, feature_6, feature_7, feature_8, feature_9, feature_10, feature_11, feature_12, feature_13, feature_14, feature_15, feature_16, feature_17, feature_18, feature_19, feature_20, feature_21, feature_22, feature_23, feature_24, feature_25, feature_26, feature_27, feature_28, feature_29, feature_30, feature_31, feature_32, feature_33, feature_34, feature_35, feature_36, feature_37, feature_38, feature_39, feature_40, feature_41, feature_42, feature_43, feature_44, feature_45, feature_46, feature_47, feature_48, feature_49, feature_50, feature_51, feature_52, feature_53, feature_54, feature_55, feature_56, feature_57, feature_58, feature_59, feature_60, feature_61, feature_62, feature_63, feature_66, feature_67, feature_68, feature_69, feature_70, feature_71, feature_73, feature_74, feature_75, feature_76, feature_77, feature_78, feature_79, feature_80, feature_81, feature_82, feature_83, feature_84, feature_85, feature_86, feature_87, feature_88, feature_89, feature_90, feature_91, feature_92, feature_93, feature_94, feature_95, feature_96, feature_97, feature_98, feature_99, feature_101, ...]\n",
              "Index: []\n",
              "\n",
              "[0 rows x 142 columns]"
            ],
            "text/html": [
              "\n",
              "  <div id=\"df-20e316c6-87fd-4037-8c18-4598c9ce245c\" class=\"colab-df-container\">\n",
              "    <div>\n",
              "<style scoped>\n",
              "    .dataframe tbody tr th:only-of-type {\n",
              "        vertical-align: middle;\n",
              "    }\n",
              "\n",
              "    .dataframe tbody tr th {\n",
              "        vertical-align: top;\n",
              "    }\n",
              "\n",
              "    .dataframe thead th {\n",
              "        text-align: right;\n",
              "    }\n",
              "</style>\n",
              "<table border=\"1\" class=\"dataframe\">\n",
              "  <thead>\n",
              "    <tr style=\"text-align: right;\">\n",
              "      <th></th>\n",
              "      <th>rank</th>\n",
              "      <th>query_id</th>\n",
              "      <th>feature_0</th>\n",
              "      <th>feature_1</th>\n",
              "      <th>feature_2</th>\n",
              "      <th>feature_3</th>\n",
              "      <th>feature_4</th>\n",
              "      <th>feature_5</th>\n",
              "      <th>feature_6</th>\n",
              "      <th>feature_7</th>\n",
              "      <th>...</th>\n",
              "      <th>feature_134</th>\n",
              "      <th>feature_135</th>\n",
              "      <th>feature_136</th>\n",
              "      <th>feature_137</th>\n",
              "      <th>feature_138</th>\n",
              "      <th>feature_139</th>\n",
              "      <th>feature_140</th>\n",
              "      <th>feature_141</th>\n",
              "      <th>feature_142</th>\n",
              "      <th>feature_143</th>\n",
              "    </tr>\n",
              "  </thead>\n",
              "  <tbody>\n",
              "  </tbody>\n",
              "</table>\n",
              "<p>0 rows × 142 columns</p>\n",
              "</div>\n",
              "    <div class=\"colab-df-buttons\">\n",
              "\n",
              "  <div class=\"colab-df-container\">\n",
              "    <button class=\"colab-df-convert\" onclick=\"convertToInteractive('df-20e316c6-87fd-4037-8c18-4598c9ce245c')\"\n",
              "            title=\"Convert this dataframe to an interactive table.\"\n",
              "            style=\"display:none;\">\n",
              "\n",
              "  <svg xmlns=\"http://www.w3.org/2000/svg\" height=\"24px\" viewBox=\"0 -960 960 960\">\n",
              "    <path d=\"M120-120v-720h720v720H120Zm60-500h600v-160H180v160Zm220 220h160v-160H400v160Zm0 220h160v-160H400v160ZM180-400h160v-160H180v160Zm440 0h160v-160H620v160ZM180-180h160v-160H180v160Zm440 0h160v-160H620v160Z\"/>\n",
              "  </svg>\n",
              "    </button>\n",
              "\n",
              "  <style>\n",
              "    .colab-df-container {\n",
              "      display:flex;\n",
              "      gap: 12px;\n",
              "    }\n",
              "\n",
              "    .colab-df-convert {\n",
              "      background-color: #E8F0FE;\n",
              "      border: none;\n",
              "      border-radius: 50%;\n",
              "      cursor: pointer;\n",
              "      display: none;\n",
              "      fill: #1967D2;\n",
              "      height: 32px;\n",
              "      padding: 0 0 0 0;\n",
              "      width: 32px;\n",
              "    }\n",
              "\n",
              "    .colab-df-convert:hover {\n",
              "      background-color: #E2EBFA;\n",
              "      box-shadow: 0px 1px 2px rgba(60, 64, 67, 0.3), 0px 1px 3px 1px rgba(60, 64, 67, 0.15);\n",
              "      fill: #174EA6;\n",
              "    }\n",
              "\n",
              "    .colab-df-buttons div {\n",
              "      margin-bottom: 4px;\n",
              "    }\n",
              "\n",
              "    [theme=dark] .colab-df-convert {\n",
              "      background-color: #3B4455;\n",
              "      fill: #D2E3FC;\n",
              "    }\n",
              "\n",
              "    [theme=dark] .colab-df-convert:hover {\n",
              "      background-color: #434B5C;\n",
              "      box-shadow: 0px 1px 3px 1px rgba(0, 0, 0, 0.15);\n",
              "      filter: drop-shadow(0px 1px 2px rgba(0, 0, 0, 0.3));\n",
              "      fill: #FFFFFF;\n",
              "    }\n",
              "  </style>\n",
              "\n",
              "    <script>\n",
              "      const buttonEl =\n",
              "        document.querySelector('#df-20e316c6-87fd-4037-8c18-4598c9ce245c button.colab-df-convert');\n",
              "      buttonEl.style.display =\n",
              "        google.colab.kernel.accessAllowed ? 'block' : 'none';\n",
              "\n",
              "      async function convertToInteractive(key) {\n",
              "        const element = document.querySelector('#df-20e316c6-87fd-4037-8c18-4598c9ce245c');\n",
              "        const dataTable =\n",
              "          await google.colab.kernel.invokeFunction('convertToInteractive',\n",
              "                                                    [key], {});\n",
              "        if (!dataTable) return;\n",
              "\n",
              "        const docLinkHtml = 'Like what you see? Visit the ' +\n",
              "          '<a target=\"_blank\" href=https://colab.research.google.com/notebooks/data_table.ipynb>data table notebook</a>'\n",
              "          + ' to learn more about interactive tables.';\n",
              "        element.innerHTML = '';\n",
              "        dataTable['output_type'] = 'display_data';\n",
              "        await google.colab.output.renderOutput(dataTable, element);\n",
              "        const docLink = document.createElement('div');\n",
              "        docLink.innerHTML = docLinkHtml;\n",
              "        element.appendChild(docLink);\n",
              "      }\n",
              "    </script>\n",
              "  </div>\n",
              "\n",
              "    </div>\n",
              "  </div>\n"
            ],
            "application/vnd.google.colaboratory.intrinsic+json": {
              "type": "dataframe"
            }
          },
          "metadata": {},
          "execution_count": 102
        }
      ]
    },
    {
      "cell_type": "code",
      "source": [
        "from sklearn.model_selection import train_test_split, GridSearchCV\n",
        "from sklearn.metrics import ndcg_score\n",
        "from sklearn import preprocessing"
      ],
      "metadata": {
        "id": "8RYjnNLF1BJc"
      },
      "execution_count": null,
      "outputs": []
    },
    {
      "cell_type": "markdown",
      "source": [
        "### Сначала я выбираю рандомные запросы в трейн и валид выборки, затем беру данные с соответствующими запросами"
      ],
      "metadata": {
        "id": "2bLbZz8p8edj"
      }
    },
    {
      "cell_type": "code",
      "source": [
        "np.random.seed(1312)"
      ],
      "metadata": {
        "id": "ywKjLLVM-ko1"
      },
      "execution_count": null,
      "outputs": []
    },
    {
      "cell_type": "code",
      "source": [
        "train_queries, validation_queries = train_test_split(df['query_id'].unique(), test_size=0.2)"
      ],
      "metadata": {
        "id": "hOF7B7nMKr-7"
      },
      "execution_count": null,
      "outputs": []
    },
    {
      "cell_type": "code",
      "source": [
        "train_df = df[df['query_id'].isin(train_queries)]\n",
        "validation_df = df[df['query_id'].isin(validation_queries)]"
      ],
      "metadata": {
        "id": "ENLICuFY40hq"
      },
      "execution_count": null,
      "outputs": []
    },
    {
      "cell_type": "code",
      "source": [
        "train_df.shape[0]/df.shape[0], validation_df.shape[0]/df.shape[0]"
      ],
      "metadata": {
        "colab": {
          "base_uri": "https://localhost:8080/"
        },
        "id": "6pzHTDbF5FHS",
        "outputId": "d418be83-f1dc-4bb6-a249-40c3c7cda63c"
      },
      "execution_count": null,
      "outputs": [
        {
          "output_type": "execute_result",
          "data": {
            "text/plain": [
              "(0.8007566257890374, 0.19924337421096258)"
            ]
          },
          "metadata": {},
          "execution_count": 159
        }
      ]
    },
    {
      "cell_type": "code",
      "source": [
        "qids_train = train_df.groupby('query_id')['query_id'].count().to_numpy()\n",
        "X_train = train_df.drop(['query_id', 'rank'], axis=1)\n",
        "y_train = train_df['rank']\n",
        "\n",
        "qids_validation = validation_df.groupby('query_id')['query_id'].count().to_numpy()\n",
        "X_validation = validation_df.drop(['query_id', 'rank'], axis=1)\n",
        "y_validation = validation_df['rank']"
      ],
      "metadata": {
        "id": "hZo-JGzH1BHF"
      },
      "execution_count": null,
      "outputs": []
    },
    {
      "cell_type": "markdown",
      "source": [
        "### Lightgbm\n",
        "### Т.к. модель - композиция деревьев, то нормализация не нужна"
      ],
      "metadata": {
        "id": "qrqUsj6Q83jr"
      }
    },
    {
      "cell_type": "code",
      "source": [
        "import lightgbm"
      ],
      "metadata": {
        "id": "1D83PoDqB0-U"
      },
      "execution_count": null,
      "outputs": []
    },
    {
      "cell_type": "code",
      "source": [
        "params = {\n",
        "    'n_estimators':(100, 250),\n",
        "    'reg_lambda':[0.1],\n",
        "    'learning_rate': [0.1, 0.01],\n",
        "    'max_depth':[-1, 3, 10, 25],\n",
        "    'num_leaves':[15, 31, 50]\n",
        "}\n",
        "\n",
        "model = lightgbm.LGBMRanker(\n",
        "    n_estimators=500,\n",
        "    reg_lambda = 0.1,\n",
        "    objective=\"lambdarank\",\n",
        "    num_leaves=15,\n",
        "    metric=\"ndcg\",\n",
        "    random_state = 1312,\n",
        "    n_jobs=-1\n",
        ")"
      ],
      "metadata": {
        "id": "1xpnUptvIW_d"
      },
      "execution_count": 198,
      "outputs": []
    },
    {
      "cell_type": "code",
      "source": [
        "best_score = 0\n",
        "best_model = None\n",
        "\n",
        "for n_estimators in params['n_estimators']:\n",
        "  for reg_lambda in params['reg_lambda']:\n",
        "    for learning_rate in params['learning_rate']:\n",
        "      for max_depth in params['max_depth']:\n",
        "        for num_leaves in params['num_leaves']:\n",
        "          model = lightgbm.LGBMRanker(\n",
        "                    n_estimators = n_estimators,\n",
        "                    reg_lambda = reg_lambda,\n",
        "                    learning_rate = learning_rate,\n",
        "                    max_depth = max_depth,\n",
        "                    num_leaves = num_leaves,\n",
        "                    objective=\"lambdarank\",\n",
        "                    metric=\"ndcg\",\n",
        "                    random_state = 1312,\n",
        "                    n_jobs = -1\n",
        "                )\n",
        "          model.fit(\n",
        "              X=X_train,\n",
        "              y=y_train,\n",
        "              group=qids_train,\n",
        "              eval_set=[(X_validation, y_validation)],\n",
        "              eval_group=[qids_validation],\n",
        "              eval_at=5\n",
        "          )\n",
        "          if model.best_score_['valid_0']['ndcg@5'] > best_score:\n",
        "              best_score = model.best_score_['valid_0']['ndcg@5']\n",
        "              best_model = model"
      ],
      "metadata": {
        "id": "07bd6vRhF8Af"
      },
      "execution_count": null,
      "outputs": []
    },
    {
      "cell_type": "code",
      "source": [
        "best_model"
      ],
      "metadata": {
        "colab": {
          "base_uri": "https://localhost:8080/"
        },
        "id": "LQUUf8UtMb84",
        "outputId": "5f8b7248-8005-4787-ed64-48aa5b247dfd"
      },
      "execution_count": null,
      "outputs": [
        {
          "output_type": "execute_result",
          "data": {
            "text/plain": [
              "defaultdict(collections.OrderedDict,\n",
              "            {'valid_0': OrderedDict([('ndcg@5', 0.483474981404985)])})"
            ]
          },
          "metadata": {},
          "execution_count": 187
        }
      ]
    },
    {
      "cell_type": "code",
      "source": [
        "best_model.get_params()"
      ],
      "metadata": {
        "id": "hdr0zmhXQCjE",
        "colab": {
          "base_uri": "https://localhost:8080/"
        },
        "outputId": "57edc38e-5814-4d00-ef61-76186b4f9abd"
      },
      "execution_count": 193,
      "outputs": [
        {
          "output_type": "execute_result",
          "data": {
            "text/plain": [
              "{'boosting_type': 'gbdt',\n",
              " 'class_weight': None,\n",
              " 'colsample_bytree': 1.0,\n",
              " 'importance_type': 'split',\n",
              " 'learning_rate': 0.1,\n",
              " 'max_depth': -1,\n",
              " 'min_child_samples': 20,\n",
              " 'min_child_weight': 0.001,\n",
              " 'min_split_gain': 0.0,\n",
              " 'n_estimators': 500,\n",
              " 'n_jobs': -1,\n",
              " 'num_leaves': 15,\n",
              " 'objective': 'lambdarank',\n",
              " 'random_state': 1312,\n",
              " 'reg_alpha': 0.0,\n",
              " 'reg_lambda': 0.1,\n",
              " 'subsample': 1.0,\n",
              " 'subsample_for_bin': 200000,\n",
              " 'subsample_freq': 0,\n",
              " 'metric': 'ndcg'}"
            ]
          },
          "metadata": {},
          "execution_count": 193
        }
      ]
    },
    {
      "cell_type": "code",
      "source": [
        "model.fit(\n",
        "    X=X_train,\n",
        "    y=y_train,\n",
        "    group=qids_train,\n",
        "    eval_set=[(X_validation, y_validation)],\n",
        "    eval_group=[qids_validation],\n",
        "    eval_at=5\n",
        ")"
      ],
      "metadata": {
        "colab": {
          "base_uri": "https://localhost:8080/",
          "height": 178
        },
        "id": "PAMFZgrZIkoh",
        "outputId": "0d26612b-4672-40e2-c3e2-0e6b94beb8dd"
      },
      "execution_count": 199,
      "outputs": [
        {
          "output_type": "stream",
          "name": "stdout",
          "text": [
            "[LightGBM] [Info] Auto-choosing row-wise multi-threading, the overhead of testing was 0.126828 seconds.\n",
            "You can set `force_row_wise=true` to remove the overhead.\n",
            "And if memory is not enough, you can set `force_col_wise=true`.\n",
            "[LightGBM] [Info] Total Bins 26309\n",
            "[LightGBM] [Info] Number of data points in the train set: 188382, number of used features: 140\n"
          ]
        },
        {
          "output_type": "execute_result",
          "data": {
            "text/plain": [
              "LGBMRanker(metric='ndcg', n_estimators=500, n_jobs=-1, num_leaves=15,\n",
              "           objective='lambdarank', random_state=1312, reg_lambda=0.1)"
            ],
            "text/html": [
              "<style>#sk-container-id-10 {color: black;background-color: white;}#sk-container-id-10 pre{padding: 0;}#sk-container-id-10 div.sk-toggleable {background-color: white;}#sk-container-id-10 label.sk-toggleable__label {cursor: pointer;display: block;width: 100%;margin-bottom: 0;padding: 0.3em;box-sizing: border-box;text-align: center;}#sk-container-id-10 label.sk-toggleable__label-arrow:before {content: \"▸\";float: left;margin-right: 0.25em;color: #696969;}#sk-container-id-10 label.sk-toggleable__label-arrow:hover:before {color: black;}#sk-container-id-10 div.sk-estimator:hover label.sk-toggleable__label-arrow:before {color: black;}#sk-container-id-10 div.sk-toggleable__content {max-height: 0;max-width: 0;overflow: hidden;text-align: left;background-color: #f0f8ff;}#sk-container-id-10 div.sk-toggleable__content pre {margin: 0.2em;color: black;border-radius: 0.25em;background-color: #f0f8ff;}#sk-container-id-10 input.sk-toggleable__control:checked~div.sk-toggleable__content {max-height: 200px;max-width: 100%;overflow: auto;}#sk-container-id-10 input.sk-toggleable__control:checked~label.sk-toggleable__label-arrow:before {content: \"▾\";}#sk-container-id-10 div.sk-estimator input.sk-toggleable__control:checked~label.sk-toggleable__label {background-color: #d4ebff;}#sk-container-id-10 div.sk-label input.sk-toggleable__control:checked~label.sk-toggleable__label {background-color: #d4ebff;}#sk-container-id-10 input.sk-hidden--visually {border: 0;clip: rect(1px 1px 1px 1px);clip: rect(1px, 1px, 1px, 1px);height: 1px;margin: -1px;overflow: hidden;padding: 0;position: absolute;width: 1px;}#sk-container-id-10 div.sk-estimator {font-family: monospace;background-color: #f0f8ff;border: 1px dotted black;border-radius: 0.25em;box-sizing: border-box;margin-bottom: 0.5em;}#sk-container-id-10 div.sk-estimator:hover {background-color: #d4ebff;}#sk-container-id-10 div.sk-parallel-item::after {content: \"\";width: 100%;border-bottom: 1px solid gray;flex-grow: 1;}#sk-container-id-10 div.sk-label:hover label.sk-toggleable__label {background-color: #d4ebff;}#sk-container-id-10 div.sk-serial::before {content: \"\";position: absolute;border-left: 1px solid gray;box-sizing: border-box;top: 0;bottom: 0;left: 50%;z-index: 0;}#sk-container-id-10 div.sk-serial {display: flex;flex-direction: column;align-items: center;background-color: white;padding-right: 0.2em;padding-left: 0.2em;position: relative;}#sk-container-id-10 div.sk-item {position: relative;z-index: 1;}#sk-container-id-10 div.sk-parallel {display: flex;align-items: stretch;justify-content: center;background-color: white;position: relative;}#sk-container-id-10 div.sk-item::before, #sk-container-id-10 div.sk-parallel-item::before {content: \"\";position: absolute;border-left: 1px solid gray;box-sizing: border-box;top: 0;bottom: 0;left: 50%;z-index: -1;}#sk-container-id-10 div.sk-parallel-item {display: flex;flex-direction: column;z-index: 1;position: relative;background-color: white;}#sk-container-id-10 div.sk-parallel-item:first-child::after {align-self: flex-end;width: 50%;}#sk-container-id-10 div.sk-parallel-item:last-child::after {align-self: flex-start;width: 50%;}#sk-container-id-10 div.sk-parallel-item:only-child::after {width: 0;}#sk-container-id-10 div.sk-dashed-wrapped {border: 1px dashed gray;margin: 0 0.4em 0.5em 0.4em;box-sizing: border-box;padding-bottom: 0.4em;background-color: white;}#sk-container-id-10 div.sk-label label {font-family: monospace;font-weight: bold;display: inline-block;line-height: 1.2em;}#sk-container-id-10 div.sk-label-container {text-align: center;}#sk-container-id-10 div.sk-container {/* jupyter's `normalize.less` sets `[hidden] { display: none; }` but bootstrap.min.css set `[hidden] { display: none !important; }` so we also need the `!important` here to be able to override the default hidden behavior on the sphinx rendered scikit-learn.org. See: https://github.com/scikit-learn/scikit-learn/issues/21755 */display: inline-block !important;position: relative;}#sk-container-id-10 div.sk-text-repr-fallback {display: none;}</style><div id=\"sk-container-id-10\" class=\"sk-top-container\"><div class=\"sk-text-repr-fallback\"><pre>LGBMRanker(metric=&#x27;ndcg&#x27;, n_estimators=500, n_jobs=-1, num_leaves=15,\n",
              "           objective=&#x27;lambdarank&#x27;, random_state=1312, reg_lambda=0.1)</pre><b>In a Jupyter environment, please rerun this cell to show the HTML representation or trust the notebook. <br />On GitHub, the HTML representation is unable to render, please try loading this page with nbviewer.org.</b></div><div class=\"sk-container\" hidden><div class=\"sk-item\"><div class=\"sk-estimator sk-toggleable\"><input class=\"sk-toggleable__control sk-hidden--visually\" id=\"sk-estimator-id-10\" type=\"checkbox\" checked><label for=\"sk-estimator-id-10\" class=\"sk-toggleable__label sk-toggleable__label-arrow\">LGBMRanker</label><div class=\"sk-toggleable__content\"><pre>LGBMRanker(metric=&#x27;ndcg&#x27;, n_estimators=500, n_jobs=-1, num_leaves=15,\n",
              "           objective=&#x27;lambdarank&#x27;, random_state=1312, reg_lambda=0.1)</pre></div></div></div></div></div>"
            ]
          },
          "metadata": {},
          "execution_count": 199
        }
      ]
    },
    {
      "cell_type": "code",
      "source": [
        "model.best_score_['valid_0']['ndcg@5']"
      ],
      "metadata": {
        "colab": {
          "base_uri": "https://localhost:8080/"
        },
        "id": "CTK-1Vq6KJcv",
        "outputId": "76735f49-64da-47e6-c08f-b180e8ee6ed9"
      },
      "execution_count": 200,
      "outputs": [
        {
          "output_type": "execute_result",
          "data": {
            "text/plain": [
              "0.483474981404985"
            ]
          },
          "metadata": {},
          "execution_count": 200
        }
      ]
    }
  ]
}